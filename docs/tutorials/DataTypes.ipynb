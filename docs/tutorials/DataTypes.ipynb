{
 "cells": [
  {
   "cell_type": "raw",
   "id": "3fd73de1-c80d-43b6-af02-731ea1ce063c",
   "metadata": {},
   "source": [
    "---\n",
    "title: \"Data Types\"\n",
    "execute: \n",
    "  enabled: true\n",
    "---"
   ]
  },
  {
   "cell_type": "markdown",
   "id": "7293b009-52c1-4c11-bce8-9688314825b4",
   "metadata": {},
   "source": [
    "Geotypes adds some high-level wrappers around geopandas and shapely to allow for easier use. They allow easy conversion between georeference schemes, better tracking of what coordinate system the variables are in and easy conversion between types.\n",
    "These include:\n",
    "\n",
    "* GeoPoint\n",
    "* LL\n",
    "* GeoPath\n",
    "* GeoPoints\n",
    "* GeoArea\n",
    "* XY\n",
    "* LocalPath\n",
    "* LocalPoints\n",
    "* LocalArea\n",
    "\n",
    "\n",
    "\n"
   ]
  },
  {
   "cell_type": "code",
   "execution_count": null,
   "id": "87276306-3715-4177-85f2-0b4d84dc506d",
   "metadata": {},
   "outputs": [],
   "source": [
    "import geotypes"
   ]
  },
  {
   "cell_type": "markdown",
   "id": "c854e3c9-6991-4fa5-80d1-f16a6e15126b",
   "metadata": {},
   "source": [
    "## GeoPoint\n",
    "The GeoPoint is an x,y coordinate with an associated Coordinate Reference System (CRS). It allows easy conversion to LL and XY data types."
   ]
  },
  {
   "cell_type": "code",
   "execution_count": null,
   "id": "710dcea6-c0d1-459d-8dc2-446a0a8f4a07",
   "metadata": {},
   "outputs": [],
   "source": [
    "p = geotypes.geometry.GeoPoint(x=151.28826000, y=-33.79798000, crs=\"epsg:4326\") # initialise a lat, lon centred in Manly.\n",
    "print(\"GeoPoint\", p)\n",
    "ll = p.to_ll() # Converts to lat,lon data type\n",
    "print(\"In LL\", ll)\n",
    "p_utm = p.to_crs(\"EPSG:32756\")  # converts to utm zone 56S\n",
    "print(\"In UTM Zone 56S\", p_utm)"
   ]
  },
  {
   "cell_type": "markdown",
   "id": "a123b079-db65-4cf7-934d-5c33a4b198a7",
   "metadata": {},
   "source": [
    "## LL\n",
    "The lat,lon data type is there for convience and to make it explicit about what is latitude, what is longitude.\n"
   ]
  },
  {
   "cell_type": "code",
   "execution_count": null,
   "id": "6de16505-36d2-40b9-9bb1-36fd215b3803",
   "metadata": {},
   "outputs": [],
   "source": [
    "ll = geotypes.geometry.LL(-33.79798000,151.28826000)\n",
    "print(ll)\n",
    "# Convert to geopoint\n",
    "p = ll.to_geopoint()\n",
    "print(p)"
   ]
  },
  {
   "cell_type": "markdown",
   "id": "43508afe-bab3-4a7d-8f00-d3aab81bd158",
   "metadata": {},
   "source": [
    "### GeoPath\n",
    "A path in geographic space, effectively a geopandas geoseries / shapely linestring with an associated CRS. It is commonly used to represent sampling transects (such as AUV transects). It has some convient functions to collect samples at set distances along the path - which can be done no-matter what "
   ]
  },
  {
   "cell_type": "code",
   "execution_count": null,
   "id": "6a22068b-06cc-49c5-9459-109eaab01a2d",
   "metadata": {},
   "outputs": [],
   "source": [
    "# Define a set of points. This is a simple broad grid in CRS \"EPSG:32756\"\n",
    "points = [(342041.99358729343, 6259392.849573873),\n",
    " (342495.27623430215, 6259603.771833958),\n",
    " (342579.64503957686, 6259422.458960008),\n",
    " (342126.36269032373, 6259211.536449324),\n",
    " (342210.73189359176, 6259030.223443877),\n",
    " (342664.01394509675, 6259241.146205157)]\n",
    "\n",
    "# create the geopath object\n",
    "geopath = geotypes.geometry.GeoPath(points, crs=\"EPSG:32756\")\n",
    "print(geopath)\n",
    "\n",
    "# Iterating over it returns a geopoint.\n",
    "print(\"Geopoints:\")\n",
    "for p in geopath:\n",
    "    print(p)\n",
    "print(\"\\n\")\n",
    "\n",
    "# Easily convert to other crs\n",
    "geopath4326 = geopath.to_crs(\"EPSG:4326\")\n",
    "print(geopath4326)\n",
    "\n",
    "# Sample points along the geopath\n",
    "geopath_subsampled = geopath.sample_points_along_path(d=20) # sample a point every 20 meters.\n",
    "print(\"Number of points in original {}, in subsampled {}\".format(len(geopath), len(geopath_subsampled)))\n"
   ]
  },
  {
   "cell_type": "markdown",
   "id": "52fbce85-24b3-4e54-844b-8dbeb63229c1",
   "metadata": {},
   "source": [
    "### GeoArea\n",
    "\n",
    "A GeoArea is a wrapper around a geopandas GeoSeries with just one element, a polygon or multipolygon. They are used within the situ framework to represent sampling bounds or focal areas. As such, they have easy access to random sampling.\n",
    "\n"
   ]
  },
  {
   "cell_type": "code",
   "execution_count": null,
   "id": "ccda2039-c17d-4024-be06-f6d02ccb6b32",
   "metadata": {},
   "outputs": [],
   "source": [
    "# Define a geoarea\n",
    "geoarea = geotypes.geometry.GeoArea([(151.28412747953516, -33.78781691040293),\n",
    " (151.30572252046485, -33.78781691040293),\n",
    " (151.30572478467255, -33.805848131225765),\n",
    " (151.28412521532746, -33.805848131225765),\n",
    " (151.28412747953516, -33.78781691040293)], crs='EPSG:4326')\n",
    "\n",
    "# get some samples from within it - these are GeoPoints:\n",
    "for n in range(5):\n",
    "    print(geoarea.random_point_geo())\n",
    "# you can get also get points directly as LLs, regardless of the CRS.\n",
    "for n in range(5):\n",
    "    print(geoarea.random_point_ll())"
   ]
  },
  {
   "cell_type": "code",
   "execution_count": null,
   "id": "c6b271c4-987a-42f5-9dee-0cae263dc10c",
   "metadata": {},
   "outputs": [],
   "source": [
    "# Plot the overall area on the map\n",
    "import folium\n",
    "# Plot the area\n",
    "m = geoarea.explore(style_kwds={'fill': False, 'color':'green'})\n",
    "# Plot the geopath\n",
    "geopath.explore(m=m)\n",
    "# Plot the samples along the geopath\n",
    "geotypes.geometry.GeoPoints(geopath.sample_points_along_path(50).to_geopoints()).explore(m=m)\n",
    "# Plot some random samples from the geoarea\n",
    "geotypes.geometry.GeoPoints([geoarea.random_point_ll() for _ in range(10)]).explore(m=m, style_kwds={'color':'red'})\n",
    "folium.LayerControl().add_to(m)\n",
    "display(m)\n",
    "\n"
   ]
  },
  {
   "cell_type": "markdown",
   "id": "7f51a0a1-9721-4e51-b053-b93cc9349f46",
   "metadata": {},
   "source": [
    "## Local Equivalents\n",
    "There are local equivalents to the classes presented above. These include:\n",
    "- XY: Equivalent of GeoPoint\n",
    "- LocalPoints: Equivalent of GeoPoints\n",
    "- LocalPath: Equivalent of GeoPath\n",
    "- LocalArea: Equivalent of GeoArea\n",
    "These are just wrappers around the shapely geometry classes, but offer some extra functionality, including being able to convert to and from the Geo equivalents."
   ]
  },
  {
   "cell_type": "code",
   "execution_count": null,
   "id": "ec324ae0-a463-4461-b7c1-f77e97278b7d",
   "metadata": {},
   "outputs": [],
   "source": [
    "origin_ll = geoarea.centroid_ll()\n",
    "# Convert the position to local\n",
    "xy = p.to_local(origin_ll)\n",
    "# Now go back to GeoPoint, this time with a different CRS.\n",
    "pll = xy.to_geo(origin_ll, \"epsg:4326\")\n",
    "# Print all to compare\n",
    "print(p, xy, pll)\n",
    "\n",
    "\n",
    "# Convert a GeoPath to a LocalPath\n",
    "localpath = geopath.to_local(origin_ll)\n",
    "# And go back again\n",
    "geopath2 = localpath.to_geo(origin_ll, geopath.crs)"
   ]
  },
  {
   "cell_type": "code",
   "execution_count": null,
   "id": "3185472f-c064-40be-b561-d5136eb328b2",
   "metadata": {},
   "outputs": [],
   "source": []
  }
 ],
 "metadata": {
  "kernelspec": {
   "display_name": "Python 3 (ipykernel)",
   "language": "python",
   "name": "python3"
  },
  "language_info": {
   "codemirror_mode": {
    "name": "ipython",
    "version": 3
   },
   "file_extension": ".py",
   "mimetype": "text/x-python",
   "name": "python",
   "nbconvert_exporter": "python",
   "pygments_lexer": "ipython3",
   "version": "3.10.12"
  }
 },
 "nbformat": 4,
 "nbformat_minor": 5
}
